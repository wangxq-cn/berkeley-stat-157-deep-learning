{
 "cells": [
  {
   "cell_type": "markdown",
   "metadata": {},
   "source": [
    "# Homework 3 - Berkeley STAT 157\n",
    "\n",
    "Handout 2/5/2019, due 2/12/2019 by 4pm in Git by committing to your repository.\n",
    "\n",
    "**Formatting: please include both a .ipynb and .pdf file in your homework submission, named homework3.ipynb and homework3.pdf. You can export your notebook to a pdf either by File -> Download as -> PDF via Latex (you may need Latex installed), or by simply printing to a pdf from your browser (you may want to do File -> Print Preview in jupyter first). Please don't change the filename.**       "
   ]
  },
  {
   "cell_type": "code",
   "execution_count": 8,
   "metadata": {
    "ExecuteTime": {
     "end_time": "2019-02-07T00:58:19.457771Z",
     "start_time": "2019-02-07T00:58:16.843106Z"
    },
    "collapsed": true
   },
   "outputs": [],
   "source": [
    "from mxnet import nd, autograd, gluon\n",
    "import matplotlib.pyplot as plt\n",
    "import numpy as np\n",
    "from mxnet.gluon import nn\n",
    "from mxnet.gluon import loss as gloss\n",
    "from mxnet.gluon import data as gdata\n",
    "from mxnet import init"
   ]
  },
  {
   "cell_type": "markdown",
   "metadata": {},
   "source": [
    "# 1. Logistic Regression for Binary Classification\n",
    "\n",
    "In multiclass classification we typically use the exponential model \n",
    "\n",
    "$$p(y|\\mathbf{o}) = \\mathrm{softmax}(\\mathbf{o})_y = \\frac{\\exp(o_y)}{\\sum_{y'} \\exp(o_{y'})}$$\n",
    "\n",
    "1.1. Show that this parametrization has a spurious degree of freedom. That is, show that both $\\mathbf{o}$ and $\\mathbf{o} + c$ with $c \\in \\mathbb{R}$ lead to the same probability estimate."
   ]
  },
  {
   "cell_type": "markdown",
   "metadata": {},
   "source": [
    "#### Ans 1.1)  \n",
    "We can see that\n",
    "$$p(y|\\mathbf{o}) = \\mathrm{softmax}(\\mathbf{o})_y = \\frac{\\exp(o_y)}{\\sum_{y'} \\exp(o_{y'})} \\\\ \\ \\ \\\\ p(y|\\mathbf{o+c}) = \\mathrm{softmax}(\\mathbf{o+c})_y = \\frac{\\exp(o_y+c)}{\\sum_{y'} \\exp(o_{y'}+c)} \\ = \\frac{\\\\exp(c)\\exp(o_y)}{\\exp(c)\\sum_{y'} \\exp(o_{y'})} \\ = \\frac{\\exp(o_y)}{\\sum_{y'} \\exp(o_{y'})}$$"
   ]
  },
  {
   "cell_type": "markdown",
   "metadata": {},
   "source": [
    "\n",
    "\n",
    "1.2. For binary classification, i.e. whenever we have only two classes $\\{-1, 1\\}$, we can arbitrarily set $o_{-1} = 0$. Using the shorthand $o = o_1$ show that this is equivalent to \n",
    "\n",
    "$$p(y=1|o) = \\frac{1}{1 + \\exp(-o)}$$"
   ]
  },
  {
   "cell_type": "markdown",
   "metadata": {},
   "source": [
    "#### Ans 1.2)"
   ]
  },
  {
   "cell_type": "markdown",
   "metadata": {},
   "source": [
    "Since $$p(y=1|o) = \\frac{\\exp(o)}{\\exp(0) + \\exp(o)} = \\frac{\\exp(o)}{1 + \\exp(o)} =\\frac{\\frac{\\exp(o)}{\\exp(o)}}{\\frac{1}{\\exp(o)} + \\frac{\\exp(o)}{\\exp(o)}} = \\frac{1}{1+\\exp(-o)}$$"
   ]
  },
  {
   "cell_type": "markdown",
   "metadata": {},
   "source": [
    "1.3. Show that the log-likelihood loss (often called logistic loss) for labels $y \\in \\{-1, 1\\}$ is thus given by \n",
    "\n",
    "$$-\\log p(y|o) = \\log (1 + \\exp(-y \\cdot o))$$"
   ]
  },
  {
   "cell_type": "markdown",
   "metadata": {},
   "source": [
    "#### Ans 1.3)"
   ]
  },
  {
   "cell_type": "markdown",
   "metadata": {},
   "source": [
    "Since the two probabilities only differ by the sign of the exponent in the denominator and using the results from previous parts, $$p(y=1|o) = \\frac{1}{1 + \\exp(-o)} \\ $$ and by Kolmogorov's second axiom, probabilities sum up to 1,  $$\\ p(y=-1|o) = \\frac{\\exp(-o)}{1 + \\exp(-o)} = \\frac{\\exp(-o) \\cdot \\exp(o)}{1 \\cdot \\exp(o) + \\exp(-o) \\cdot \\exp(o)}  = \\frac{1}{1 + \\exp(o)} \\ $$ we can combine this into a single equation and manipulate to arrive at the given result $$ p(y|o) = \\frac{1}{1 + \\exp(-y \\cdot o)} \\\\\\ \\log p(y|o) = -\\log(1 + \\exp(-y \\cdot o)) \\\\ -\\log p(y|o) = \\log(1 + \\exp(-y \\cdot o))$$"
   ]
  },
  {
   "cell_type": "markdown",
   "metadata": {},
   "source": [
    "1.4. Show that for $y = 1$ the logistic loss asymptotes to $o$ for $o \\to \\infty$ and to $\\exp(o)$ for $o \\to -\\infty$. "
   ]
  },
  {
   "cell_type": "markdown",
   "metadata": {},
   "source": [
    "#### Ans 1.4)"
   ]
  },
  {
   "cell_type": "markdown",
   "metadata": {},
   "source": [
    "By above, $$-\\log p(y|o) = \\log (1 + \\exp(-y \\cdot o))$$\n",
    "$$-\\log p(y=1|o) = \\log (1 + \\exp(-o))$$\n",
    "and for $$o \\to \\infty, \\exp(-o) \\to 0$$"
   ]
  },
  {
   "cell_type": "markdown",
   "metadata": {},
   "source": [
    "# 2. Logistic Regression and Autograd\n",
    "\n",
    "1. Implement the binary logistic loss $l(y,o) = \\log (1 + \\exp(-y \\cdot o))$ in Gluon"
   ]
  },
  {
   "cell_type": "code",
   "execution_count": 46,
   "metadata": {
    "ExecuteTime": {
     "end_time": "2019-02-07T00:58:19.464756Z",
     "start_time": "2019-02-07T00:58:19.459943Z"
    },
    "collapsed": true
   },
   "outputs": [],
   "source": [
    "def loss(y,o):\n",
    "    ## add your loss function here\n",
    "    return nd.log(1+nd.exp(-y*o))"
   ]
  },
  {
   "cell_type": "code",
   "execution_count": 47,
   "metadata": {
    "collapsed": true
   },
   "outputs": [],
   "source": [
    "def vloss(y,o):\n",
    "    ## Vectorized loss\n",
    "    return nd.log(1+nd.exp(-y*o))"
   ]
  },
  {
   "cell_type": "markdown",
   "metadata": {},
   "source": [
    "2.1. Plot its values for $y \\in \\{-1, 1\\}$ over the range of $o \\in [-5, 5]$."
   ]
  },
  {
   "cell_type": "markdown",
   "metadata": {},
   "source": [
    "#### Ans 2.1)"
   ]
  },
  {
   "cell_type": "code",
   "execution_count": 73,
   "metadata": {
    "collapsed": false
   },
   "outputs": [],
   "source": [
    "o = nd.arange(-5, 6)\n",
    "o_cop = nd.arange(-5, 6)\n",
    "y_neg = nd.zeros(len(o))\n",
    "y_pos = nd.zeros(len(o))\n",
    "neg_loss = vloss(-1, o)\n",
    "pos_loss = vloss(1, o)"
   ]
  },
  {
   "cell_type": "code",
   "execution_count": 74,
   "metadata": {
    "collapsed": false
   },
   "outputs": [
    {
     "data": {
      "image/png": "[encoded data removed]",
      "text/plain": [
       "<Figure size 432x288 with 1 Axes>"
      ]
     },
     "metadata": {},
     "output_type": "display_data"
    }
   ],
   "source": [
    "plt.figure()\n",
    "plt.plot(o.asnumpy(), neg_loss.asnumpy(),label = 'y = -1')\n",
    "plt.plot(o.asnumpy(), pos_loss.asnumpy(), label = 'y = +1')\n",
    "plt.title(\"values for  y∈{−1,1} over the range of o∈[−5,5] .\")\n",
    "plt.legend()\n",
    "plt.show()"
   ]
  },
  {
   "cell_type": "markdown",
   "metadata": {},
   "source": [
    "2.2. Plot its derivative with respect to $o$ for $o \\in [-5, 5]$ using 'autograd'."
   ]
  },
  {
   "cell_type": "markdown",
   "metadata": {},
   "source": [
    "#### Ans 2.2)"
   ]
  },
  {
   "cell_type": "code",
   "execution_count": 75,
   "metadata": {
    "collapsed": false
   },
   "outputs": [],
   "source": [
    "o.attach_grad()\n",
    "o_cop.attach_grad()\n",
    "with autograd.record():\n",
    "    neg_loss = vloss(-1, o)\n",
    "    pos_loss = vloss(1, o_cop)\n",
    "neg_loss.backward()\n",
    "pos_loss.backward() "
   ]
  },
  {
   "cell_type": "code",
   "execution_count": 79,
   "metadata": {
    "collapsed": false
   },
   "outputs": [
    {
     "data": {
      "image/png": "[encoded data removed]",
      "text/plain": [
       "<Figure size 432x288 with 1 Axes>"
      ]
     },
     "metadata": {},
     "output_type": "display_data"
    }
   ],
   "source": [
    "plt.figure()\n",
    "plt.plot(o.asnumpy(), o.grad.asnumpy(),label = 'y = -1')\n",
    "plt.plot(o.asnumpy(), o_cop.grad.asnumpy(), label = 'y = +1')\n",
    "plt.title(\"Derivative with respect to o for o∈[−5,5] using 'autograd'.\")\n",
    "plt.legend()\n",
    "plt.show()"
   ]
  },
  {
   "cell_type": "markdown",
   "metadata": {},
   "source": [
    "# 3. Ohm's Law\n",
    "\n",
    "Imagine that you're a young physicist, maybe named [Georg Simon Ohm](https://en.wikipedia.org/wiki/Georg_Ohm), trying to figure out how current and voltage depend on each other for resistors. You have some idea but you aren't quite sure yet whether the dependence is linear or quadratic. So you take some measurements, conveniently given to you as 'ndarrays' in Python. They are indicated by 'current' and 'voltage'.\n",
    "\n",
    "Your goal is to use least mean squares regression to identify the coefficients for the following three models using automatic differentiation and least mean squares regression. The three models are:\n",
    "\n",
    "1. Quadratic model where $\\mathrm{voltage} = c + r \\cdot \\mathrm{current} + q \\cdot \\mathrm{current}^2$.\n",
    "1. Linear model where $\\mathrm{voltage} = c + r \\cdot \\mathrm{current}$.\n",
    "1. Ohm's law where $\\mathrm{voltage} = r \\cdot \\mathrm{current}$."
   ]
  },
  {
   "cell_type": "code",
   "execution_count": 122,
   "metadata": {
    "ExecuteTime": {
     "end_time": "2019-02-07T00:58:19.477109Z",
     "start_time": "2019-02-07T00:58:19.468122Z"
    },
    "collapsed": true
   },
   "outputs": [],
   "source": [
    "current = nd.array([1.5420291, 1.8935232, 2.1603365, 2.5381863, 2.893443, \\\n",
    "                    3.838855, 3.925425, 4.2233696, 4.235571, 4.273397, \\\n",
    "                    4.9332876, 6.4704757, 6.517571, 6.87826, 7.0009003, \\\n",
    "                    7.035741, 7.278681, 7.7561755, 9.121138, 9.728281])\n",
    "voltage = nd.array([63.802246, 80.036026, 91.4903, 108.28776, 122.781975, \\\n",
    "                    161.36314, 166.50816, 176.16772, 180.29395, 179.09758, \\\n",
    "                    206.21027, 272.71857, 272.24033, 289.54745, 293.8488, \\\n",
    "                    295.2281, 306.62274, 327.93243, 383.16296, 408.65967])"
   ]
  },
  {
   "cell_type": "code",
   "execution_count": 123,
   "metadata": {
    "collapsed": false
   },
   "outputs": [],
   "source": [
    "# L2 loss function and parameters\n",
    "loss = gloss.L2Loss() \n",
    "batch_size = 20 \n",
    "num_epochs = 20"
   ]
  },
  {
   "cell_type": "markdown",
   "metadata": {},
   "source": [
    "#### Work 3.1). Quadratic model where $\\mathrm{voltage} = c + r \\cdot \\mathrm{current} + q \\cdot \\mathrm{current}^2$.\n"
   ]
  },
  {
   "cell_type": "code",
   "execution_count": 163,
   "metadata": {
    "collapsed": false
   },
   "outputs": [
    {
     "name": "stdout",
     "output_type": "stream",
     "text": [
      "Using the Quadratic model where  voltage = c + r⋅current + q⋅current^22\n",
      "epoch 1, loss: 18725.42578125\n",
      "epoch 2, loss: 12350.0771484375\n",
      "epoch 3, loss: 8394.375\n",
      "epoch 4, loss: 5938.53369140625\n",
      "epoch 5, loss: 4412.4091796875\n",
      "epoch 6, loss: 3462.59521484375\n",
      "epoch 7, loss: 2870.032958984375\n",
      "epoch 8, loss: 2498.93603515625\n",
      "epoch 9, loss: 2265.134033203125\n",
      "epoch 10, loss: 2116.456787109375\n",
      "epoch 11, loss: 2020.5640869140625\n",
      "epoch 12, loss: 1957.409423828125\n",
      "epoch 13, loss: 1914.567138671875\n",
      "epoch 14, loss: 1884.3353271484375\n",
      "epoch 15, loss: 1861.939208984375\n",
      "epoch 16, loss: 1844.420166015625\n",
      "epoch 17, loss: 1829.9423828125\n",
      "epoch 18, loss: 1817.369140625\n",
      "epoch 19, loss: 1805.9951171875\n",
      "epoch 20, loss: 1795.3831787109375\n"
     ]
    }
   ],
   "source": [
    "quad_current = np.vstack((current.asnumpy(), current.asnumpy()**2))\n",
    "quad_current = nd.array(quad_current.T)\n",
    "quad_data = gdata.ArrayDataset(quad_current, voltage)\n",
    "quad_data_iter = gdata.DataLoader(quad_data, batch_size, shuffle=True)\n",
    "\n",
    "# Define the Model\n",
    "quad_model = nn.Sequential() \n",
    "quad_model.add(nn.Dense(1, use_bias=True))\n",
    "\n",
    "# Initialize Model Parameters\n",
    "quad_model.initialize(init.Normal(sigma=0.01))\n",
    "\n",
    "# Define the Optimization Algorithm\n",
    "quad_trainer = gluon.Trainer(quad_model.collect_params(), 'sgd', {'learning_rate': 0.001})\n",
    "\n",
    "# Training:\n",
    "print(\"Using the Quadratic model where  voltage = c + r⋅current + q⋅current^22\")\n",
    "for epoch in range(1, num_epochs + 1): \n",
    "    for X, y in quad_data_iter:\n",
    "        with autograd.record():\n",
    "            l = loss(quad_model(X), y)\n",
    "        l.backward()\n",
    "        quad_trainer.step(batch_size)\n",
    "    l = loss(quad_model(quad_current), voltage)\n",
    "    print(\"epoch {}, loss: {}\".format(epoch, l.mean().asscalar()))"
   ]
  },
  {
   "cell_type": "code",
   "execution_count": 194,
   "metadata": {
    "collapsed": false
   },
   "outputs": [
    {
     "name": "stdout",
     "output_type": "stream",
     "text": [
      "dense18_bias \n",
      "[0.8241394]\n",
      "<NDArray 1 @cpu(0)>\n",
      "dense18_weight \n",
      "[[2.5383394 5.146415 ]]\n",
      "<NDArray 1x2 @cpu(0)>\n"
     ]
    }
   ],
   "source": [
    "quad_params_iter = quad_model.collect_params('.*weight|.*bias')\n",
    "for i in quad_params_iter:\n",
    "    print(i, quad_params_iter[str(i)].data())"
   ]
  },
  {
   "cell_type": "markdown",
   "metadata": {},
   "source": [
    "#### Ans 3.1). Quadratic model where $\\mathrm{voltage} = c + r \\cdot \\mathrm{current} + q \\cdot \\mathrm{current}^2$.\n"
   ]
  },
  {
   "cell_type": "markdown",
   "metadata": {},
   "source": [
    "For quadratic model where $\\mathrm{voltage} = c + r \\cdot \\mathrm{current} + q \\cdot \\mathrm{current}^2$.\n",
    "$$c = 0.8241394$$\n",
    "$$r = 2.5383394$$\n",
    "$$q = 5.146415$$"
   ]
  },
  {
   "cell_type": "markdown",
   "metadata": {},
   "source": [
    "#### Work 3.2). Linear model where $\\mathrm{voltage} = c + r \\cdot \\mathrm{current}$."
   ]
  },
  {
   "cell_type": "code",
   "execution_count": 229,
   "metadata": {
    "collapsed": false
   },
   "outputs": [
    {
     "name": "stdout",
     "output_type": "stream",
     "text": [
      "Using the Linear model where  voltage = c + r⋅current\n",
      "epoch 1, loss: 13387.701171875\n",
      "epoch 2, loss: 6182.4619140625\n",
      "epoch 3, loss: 2856.069580078125\n",
      "epoch 4, loss: 1320.3841552734375\n",
      "epoch 5, loss: 611.3969116210938\n",
      "epoch 6, loss: 284.06121826171875\n",
      "epoch 7, loss: 132.91917419433594\n",
      "epoch 8, loss: 63.11895751953125\n",
      "epoch 9, loss: 30.871089935302734\n",
      "epoch 10, loss: 15.960115432739258\n",
      "epoch 11, loss: 9.053342819213867\n",
      "epoch 12, loss: 5.842033386230469\n",
      "epoch 13, loss: 4.337221622467041\n",
      "epoch 14, loss: 3.620575428009033\n",
      "epoch 15, loss: 3.268150806427002\n",
      "epoch 16, loss: 3.0842342376708984\n",
      "epoch 17, loss: 2.978449821472168\n",
      "epoch 18, loss: 2.909083843231201\n",
      "epoch 19, loss: 2.8568716049194336\n",
      "epoch 20, loss: 2.8129324913024902\n"
     ]
    }
   ],
   "source": [
    "linear_data = gdata.ArrayDataset(current, voltage)\n",
    "linear_data_iter = gdata.DataLoader(linear_data, batch_size, shuffle=True)\n",
    "\n",
    "# Define the Model\n",
    "linear_model = nn.Sequential() \n",
    "linear_model.add(nn.Dense(1, use_bias=True))\n",
    "\n",
    "# Initialize Model Parameters\n",
    "from mxnet import init\n",
    "linear_model.initialize(init.Normal(sigma=0.01))\n",
    "\n",
    "# Define the Optimization Algorithm\n",
    "linear_trainer = gluon.Trainer(linear_model.collect_params(), 'sgd', {'learning_rate': 0.05})\n",
    "\n",
    "# Training:\n",
    "print(\"Using the Linear model where  voltage = c + r⋅current\")\n",
    "for epoch in range(1, num_epochs + 1): \n",
    "    for X, y in linear_data_iter:\n",
    "        with autograd.record():\n",
    "            l = loss(linear_model(X), y)\n",
    "        l.backward()\n",
    "        linear_trainer.step(batch_size)\n",
    "    l = loss(linear_model(current), voltage)\n",
    "    print(\"epoch {}, loss: {}\".format(epoch, l.mean().asscalar()))"
   ]
  },
  {
   "cell_type": "code",
   "execution_count": 230,
   "metadata": {
    "collapsed": false
   },
   "outputs": [
    {
     "name": "stdout",
     "output_type": "stream",
     "text": [
      "dense45_bias \n",
      "[5.631054]\n",
      "<NDArray 1 @cpu(0)>\n",
      "dense45_weight \n",
      "[[41.138016]]\n",
      "<NDArray 1x1 @cpu(0)>\n"
     ]
    }
   ],
   "source": [
    "linear_params_iter = linear_model.collect_params('.*weight|.*bias')\n",
    "for i in linear_params_iter:\n",
    "    print(i, linear_params_iter[str(i)].data())"
   ]
  },
  {
   "cell_type": "markdown",
   "metadata": {},
   "source": [
    "#### Ans 3.2). Quadratic model where  $\\mathrm{voltage} = c + r \\cdot \\mathrm{current}$.\n"
   ]
  },
  {
   "cell_type": "markdown",
   "metadata": {},
   "source": [
    "For linear model where $\\mathrm{voltage} = c + r \\cdot \\mathrm{current}$.\n",
    "$$c = 5.6292043$$\n",
    "$$r = 41.138317$$\n"
   ]
  },
  {
   "cell_type": "markdown",
   "metadata": {},
   "source": [
    "#### Work 3.3). Ohm's law where $\\mathrm{voltage} = r \\cdot \\mathrm{current}$."
   ]
  },
  {
   "cell_type": "code",
   "execution_count": 231,
   "metadata": {
    "collapsed": false
   },
   "outputs": [
    {
     "name": "stdout",
     "output_type": "stream",
     "text": [
      "Using the Ohm's Law model where  voltage = r⋅current\n",
      "epoch 1, loss: 13104.103515625\n",
      "epoch 2, loss: 5925.7841796875\n",
      "epoch 3, loss: 2679.8720703125\n",
      "epoch 4, loss: 1212.1263427734375\n",
      "epoch 5, loss: 548.4365234375\n",
      "epoch 6, loss: 248.3280029296875\n",
      "epoch 7, loss: 112.6241455078125\n",
      "epoch 8, loss: 51.26112747192383\n",
      "epoch 9, loss: 23.513864517211914\n",
      "epoch 10, loss: 10.966987609863281\n",
      "epoch 11, loss: 5.293465614318848\n",
      "epoch 12, loss: 2.7279913425445557\n",
      "epoch 13, loss: 1.567939043045044\n",
      "epoch 14, loss: 1.0433976650238037\n",
      "epoch 15, loss: 0.8062097430229187\n",
      "epoch 16, loss: 0.6989573836326599\n",
      "epoch 17, loss: 0.6504567861557007\n",
      "epoch 18, loss: 0.6285218596458435\n",
      "epoch 19, loss: 0.618601381778717\n",
      "epoch 20, loss: 0.6141220331192017\n"
     ]
    }
   ],
   "source": [
    "ohm_data = gdata.ArrayDataset(current, voltage)\n",
    "ohm_data_iter = gdata.DataLoader(ohm_data, batch_size, shuffle=True)\n",
    "\n",
    "# Define the Model\n",
    "ohm_model = nn.Sequential() \n",
    "ohm_model.add(nn.Dense(1, use_bias=False))\n",
    "\n",
    "# Initialize Model Parameters\n",
    "from mxnet import init\n",
    "ohm_model.initialize(init.Normal(sigma=0.01))\n",
    "\n",
    "# Define the Optimization Algorithm\n",
    "ohm_trainer = gluon.Trainer(ohm_model.collect_params(), 'sgd', {'learning_rate': 0.01})\n",
    "\n",
    "# Training:\n",
    "print(\"Using the Ohm's Law model where  voltage = r⋅current\")\n",
    "for epoch in range(1, num_epochs + 1): \n",
    "    for X, y in ohm_data_iter:\n",
    "        with autograd.record():\n",
    "            l = loss(ohm_model(X), y)\n",
    "        l.backward()\n",
    "        ohm_trainer.step(batch_size)\n",
    "    l = loss(ohm_model(current), voltage)\n",
    "    print(\"epoch {}, loss: {}\".format(epoch, l.mean().asscalar()))"
   ]
  },
  {
   "cell_type": "code",
   "execution_count": 232,
   "metadata": {
    "collapsed": false
   },
   "outputs": [
    {
     "name": "stdout",
     "output_type": "stream",
     "text": [
      "dense46_weight \n",
      "[[42.041676]]\n",
      "<NDArray 1x1 @cpu(0)>\n"
     ]
    }
   ],
   "source": [
    "ohm_params_iter = ohm_model.collect_params('.*weight|.*bias')\n",
    "for i in ohm_params_iter:\n",
    "    print(i, ohm_params_iter[str(i)].data())"
   ]
  },
  {
   "cell_type": "markdown",
   "metadata": {},
   "source": [
    "#### Ans 3.3). Quadratic model where  $\\mathrm{voltage} = r \\cdot \\mathrm{current}$.\n"
   ]
  },
  {
   "cell_type": "markdown",
   "metadata": {},
   "source": [
    "For linear model where $\\mathrm{voltage} = r \\cdot \\mathrm{current}$.\n",
    "$$r = 42.041676$$\n"
   ]
  },
  {
   "cell_type": "markdown",
   "metadata": {},
   "source": [
    "# 4. Entropy\n",
    "\n",
    "Let's compute the *binary* entropy of a number of interesting data sources. \n",
    "\n",
    "1. Assume that you're watching the output generated by a [monkey at a typewriter](https://en.wikipedia.org/wiki/File:Chimpanzee_seated_at_typewriter.jpg). The monkey presses any of the $44$ keys of the typewriter at random (you can assume that it has not discovered any special keys or the shift key yet). How many bits of randomness per character do you observe?\n",
    "1. Unhappy with the monkey you replaced it by a drunk typesetter. It is able to generate words, albeit not coherently. Instead, it picks a random word out of a vocabulary of $2,000$ words. Moreover, assume that the average length of a word is $4.5$ letters in English. How many bits of randomness do you observe now?\n",
    "1. Still unhappy with the result you replace the typesetter by a high quality language model. These can obtain perplexity numbers as low as 20 points per character. The perplexity is defined as a length normalized probability, i.e.\n",
    "\n",
    "$$\\mathrm{PPL}(x) = \\left[p(x)\\right]^{1/\\mathrm{length}(x)}$$"
   ]
  },
  {
   "cell_type": "code",
   "execution_count": 4,
   "metadata": {
    "collapsed": true
   },
   "outputs": [],
   "source": [
    "def entro(p):\n",
    "    ret = 0\n",
    "    for i in p:\n",
    "        ret += i * np.log2(i)\n",
    "    return -ret"
   ]
  },
  {
   "cell_type": "markdown",
   "metadata": {},
   "source": [
    "#### Ans 4.1) "
   ]
  },
  {
   "cell_type": "code",
   "execution_count": 5,
   "metadata": {
    "collapsed": false
   },
   "outputs": [
    {
     "name": "stdout",
     "output_type": "stream",
     "text": [
      "We observe 5.4594316186372955 bits of randomness\n"
     ]
    }
   ],
   "source": [
    "monkey_dist = np.ones(44)/44\n",
    "print(\"We observe\",entro(monkey_dist), \"bits of randomness\")"
   ]
  },
  {
   "cell_type": "markdown",
   "metadata": {},
   "source": [
    "#### Ans 4.2)"
   ]
  },
  {
   "cell_type": "code",
   "execution_count": 6,
   "metadata": {
    "collapsed": false
   },
   "outputs": [
    {
     "name": "stdout",
     "output_type": "stream",
     "text": [
      "We observe 23.794929479711104 bits of randomness\n"
     ]
    }
   ],
   "source": [
    "drunk = np.ones(2000)/2000\n",
    "print(\"We observe\",entro(drunk)*np.log2(4.5), \"bits of randomness\")"
   ]
  },
  {
   "cell_type": "markdown",
   "metadata": {},
   "source": [
    "#### Ans 4.3)"
   ]
  },
  {
   "cell_type": "code",
   "execution_count": null,
   "metadata": {
    "collapsed": true
   },
   "outputs": [],
   "source": []
  },
  {
   "cell_type": "markdown",
   "metadata": {},
   "source": [
    "# 5. Wien's Approximation for the Temperature (bonus)\n",
    "\n",
    "We will now abuse Gluon to estimate the temperature of a black body. The energy emanated from a black body is given by Wien's approximation.\n",
    "\n",
    "$$B_\\lambda(T) = \\frac{2 h c^2}{\\lambda^5} \\exp\\left(-\\frac{h c}{\\lambda k T}\\right)$$\n",
    "\n",
    "That is, the amount of energy depends on the fifth power of the wavelength $\\lambda$ and the temperature $T$ of the body. The latter ensures a cutoff beyond a temperature-characteristic peak. Let us define this and plot it."
   ]
  },
  {
   "cell_type": "code",
   "execution_count": 48,
   "metadata": {
    "ExecuteTime": {
     "end_time": "2019-02-07T00:58:19.805358Z",
     "start_time": "2019-02-07T00:58:19.479818Z"
    },
    "collapsed": false
   },
   "outputs": [
    {
     "data": {
      "image/png": "[encoded data removed]",
      "text/plain": [
       "<Figure size 432x288 with 1 Axes>"
      ]
     },
     "metadata": {},
     "output_type": "display_data"
    }
   ],
   "source": [
    "# Lightspeed\n",
    "c = 299792458\n",
    "# Planck's constant\n",
    "h = 6.62607004e-34\n",
    "# Boltzmann constant\n",
    "k = 1.38064852e-23\n",
    "# Wavelength scale (nanometers)\n",
    "lamscale = 1e-6\n",
    "# Pulling out all powers of 10 upfront\n",
    "p_out = 2 * h * c**2 / lamscale**5\n",
    "p_in = (h / k) * (c/lamscale) \n",
    "\n",
    "# Wien's law\n",
    "def wien(lam, t):\n",
    "    return (p_out / lam**5) * nd.exp(-p_in / (lam * t))\n",
    "\n",
    "# Plot the radiance for a few different temperatures\n",
    "lam = nd.arange(0,100,0.01)\n",
    "for t in [10, 100, 150, 200, 250, 300, 350]:\n",
    "    radiance = wien(lam, t)\n",
    "    plt.plot(lam.asnumpy(), radiance.asnumpy(), label=('T=' + str(t) + 'K'))\n",
    "plt.legend()\n",
    "plt.show()"
   ]
  },
  {
   "cell_type": "markdown",
   "metadata": {},
   "source": [
    "Next we assume that we are a fearless physicist measuring some data. Of course, we need to pretend that we don't really know the temperature. But we measure the radiation at a few wavelengths.  "
   ]
  },
  {
   "cell_type": "code",
   "execution_count": 49,
   "metadata": {
    "ExecuteTime": {
     "end_time": "2019-02-07T00:58:20.063122Z",
     "start_time": "2019-02-07T00:58:19.808000Z"
    },
    "collapsed": false
   },
   "outputs": [
    {
     "data": {
      "image/png": "[encoded data removed]",
      "text/plain": [
       "<Figure size 432x288 with 1 Axes>"
      ]
     },
     "metadata": {},
     "output_type": "display_data"
    }
   ],
   "source": [
    "# real temperature is approximately 0C\n",
    "realtemp = 273\n",
    "# we observe at 3000nm up to 20,000nm wavelength\n",
    "wavelengths = nd.arange(3,20,2)\n",
    "# our infrared filters are pretty lousy ...\n",
    "delta = nd.random_normal(shape=(len(wavelengths))) * 1\n",
    "\n",
    "radiance = wien(wavelengths + delta,realtemp)\n",
    "plt.plot(wavelengths.asnumpy(), radiance.asnumpy(), label='measured')\n",
    "plt.plot(wavelengths.asnumpy(), wien(wavelengths, realtemp).asnumpy(), label='true')\n",
    "plt.legend()\n",
    "plt.show()"
   ]
  },
  {
   "cell_type": "markdown",
   "metadata": {
    "ExecuteTime": {
     "end_time": "2019-01-29T19:41:18.204791Z",
     "start_time": "2019-01-29T19:41:18.201091Z"
    }
   },
   "source": [
    "Use Gluon to estimate the real temperature based on the variables `wavelengths` and `radiance`. \n",
    "\n",
    "* You can use Wien's law implementation `wien(lam,t)` as your forward model. \n",
    "* Use the loss function $l(y,y') = (\\log y - \\log y')^2$ to measure accuracy."
   ]
  },
  {
   "cell_type": "code",
   "execution_count": 50,
   "metadata": {
    "collapsed": true
   },
   "outputs": [],
   "source": [
    "loss = lambda y, y_: nd.power((nd.log(y) - nd.log(y_)),2)"
   ]
  },
  {
   "cell_type": "code",
   "execution_count": 53,
   "metadata": {
    "collapsed": false
   },
   "outputs": [],
   "source": [
    "net = nn.Sequential()\n",
    "net.add(nn.Dense(256, activation='relu'))\n",
    "net.add(nn.Dense(1))\n",
    "net.initialize(init.Normal(sigma=0.01))"
   ]
  },
  {
   "cell_type": "code",
   "execution_count": 56,
   "metadata": {
    "collapsed": false
   },
   "outputs": [
    {
     "name": "stdout",
     "output_type": "stream",
     "text": [
      "\n",
      "[ 5. 15.  9. 17. 19.  3.  7. 11. 13.]\n",
      "<NDArray 9 @cpu(0)>\n",
      "\n",
      "[8.3406569e+05 4.3657910e+06 6.1674050e+06 3.6885735e+06 2.6709998e+06\n",
      " 2.5073965e+03 4.6691925e+06 6.0690080e+06 5.5093220e+06]\n",
      "<NDArray 9 @cpu(0)>\n"
     ]
    }
   ],
   "source": [
    "for X, y in data_iter:\n",
    "    print(X)\n",
    "    print(y)"
   ]
  },
  {
   "cell_type": "code",
   "execution_count": 55,
   "metadata": {
    "collapsed": false
   },
   "outputs": [
    {
     "ename": "MXNetError",
     "evalue": "[13:23:04] src/imperative/imperative.cc:285: Check failed: !AGInfo::IsNone(*i) Cannot differentiate node because it is not in a computational graph. You need to set is_recording to true or use autograd.record() to save computational graphs for backward. If you want to differentiate the same graph twice, you need to pass retain_graph=True to backward.\n\nStack trace returned 6 entries:\n[bt] (0) 0   libmxnet.so                         0x000000010d53ab90 libmxnet.so + 15248\n[bt] (1) 1   libmxnet.so                         0x000000010d53a93f libmxnet.so + 14655\n[bt] (2) 2   libmxnet.so                         0x000000010ea8d0e9 MXNDListFree + 550809\n[bt] (3) 3   libmxnet.so                         0x000000010e9dff2e MXAutogradBackwardEx + 1022\n[bt] (4) 4   _ctypes.so                          0x0000000105b4d127 ffi_call_unix64 + 79\n[bt] (5) 5   python                              0x00007fff5bffc310 __progname + 140730441904752\n\n",
     "output_type": "error",
     "traceback": [
      "\u001b[0;31m---------------------------------------------------------------------------\u001b[0m",
      "\u001b[0;31mMXNetError\u001b[0m                                Traceback (most recent call last)",
      "\u001b[0;32m<ipython-input-55-d94c5a25d977>\u001b[0m in \u001b[0;36m<module>\u001b[0;34m()\u001b[0m\n\u001b[1;32m     16\u001b[0m             \u001b[0mforward\u001b[0m \u001b[0;34m=\u001b[0m \u001b[0mwien\u001b[0m\u001b[0;34m(\u001b[0m\u001b[0mX\u001b[0m\u001b[0;34m,\u001b[0m\u001b[0my\u001b[0m\u001b[0;34m)\u001b[0m\u001b[0;34m\u001b[0m\u001b[0m\n\u001b[1;32m     17\u001b[0m             \u001b[0ml\u001b[0m \u001b[0;34m=\u001b[0m \u001b[0mloss\u001b[0m\u001b[0;34m(\u001b[0m\u001b[0my\u001b[0m\u001b[0;34m,\u001b[0m \u001b[0mforward\u001b[0m\u001b[0;34m)\u001b[0m\u001b[0;34m\u001b[0m\u001b[0m\n\u001b[0;32m---> 18\u001b[0;31m         \u001b[0ml\u001b[0m\u001b[0;34m.\u001b[0m\u001b[0mbackward\u001b[0m\u001b[0;34m(\u001b[0m\u001b[0;34m)\u001b[0m\u001b[0;34m\u001b[0m\u001b[0m\n\u001b[0m\u001b[1;32m     19\u001b[0m         \u001b[0mtrainer\u001b[0m\u001b[0;34m.\u001b[0m\u001b[0mstep\u001b[0m\u001b[0;34m(\u001b[0m\u001b[0mbatch_size\u001b[0m\u001b[0;34m)\u001b[0m\u001b[0;34m\u001b[0m\u001b[0m\n\u001b[1;32m     20\u001b[0m     \u001b[0mtrain_l\u001b[0m \u001b[0;34m=\u001b[0m \u001b[0mloss\u001b[0m\u001b[0;34m(\u001b[0m\u001b[0mnet\u001b[0m\u001b[0;34m(\u001b[0m\u001b[0mfeatures\u001b[0m\u001b[0;34m)\u001b[0m\u001b[0;34m,\u001b[0m \u001b[0mlabels\u001b[0m\u001b[0;34m)\u001b[0m\u001b[0;34m\u001b[0m\u001b[0m\n",
      "\u001b[0;32m//anaconda/lib/python3.5/site-packages/mxnet/ndarray/ndarray.py\u001b[0m in \u001b[0;36mbackward\u001b[0;34m(self, out_grad, retain_graph, train_mode)\u001b[0m\n\u001b[1;32m   2190\u001b[0m             \u001b[0mctypes\u001b[0m\u001b[0;34m.\u001b[0m\u001b[0mc_int\u001b[0m\u001b[0;34m(\u001b[0m\u001b[0mtrain_mode\u001b[0m\u001b[0;34m)\u001b[0m\u001b[0;34m,\u001b[0m\u001b[0;34m\u001b[0m\u001b[0m\n\u001b[1;32m   2191\u001b[0m             \u001b[0mctypes\u001b[0m\u001b[0;34m.\u001b[0m\u001b[0mc_void_p\u001b[0m\u001b[0;34m(\u001b[0m\u001b[0;36m0\u001b[0m\u001b[0;34m)\u001b[0m\u001b[0;34m,\u001b[0m\u001b[0;34m\u001b[0m\u001b[0m\n\u001b[0;32m-> 2192\u001b[0;31m             ctypes.c_void_p(0)))\n\u001b[0m\u001b[1;32m   2193\u001b[0m \u001b[0;34m\u001b[0m\u001b[0m\n\u001b[1;32m   2194\u001b[0m     \u001b[0;32mdef\u001b[0m \u001b[0mtostype\u001b[0m\u001b[0;34m(\u001b[0m\u001b[0mself\u001b[0m\u001b[0;34m,\u001b[0m \u001b[0mstype\u001b[0m\u001b[0;34m)\u001b[0m\u001b[0;34m:\u001b[0m\u001b[0;34m\u001b[0m\u001b[0m\n",
      "\u001b[0;32m//anaconda/lib/python3.5/site-packages/mxnet/base.py\u001b[0m in \u001b[0;36mcheck_call\u001b[0;34m(ret)\u001b[0m\n\u001b[1;32m    249\u001b[0m     \"\"\"\n\u001b[1;32m    250\u001b[0m     \u001b[0;32mif\u001b[0m \u001b[0mret\u001b[0m \u001b[0;34m!=\u001b[0m \u001b[0;36m0\u001b[0m\u001b[0;34m:\u001b[0m\u001b[0;34m\u001b[0m\u001b[0m\n\u001b[0;32m--> 251\u001b[0;31m         \u001b[0;32mraise\u001b[0m \u001b[0mMXNetError\u001b[0m\u001b[0;34m(\u001b[0m\u001b[0mpy_str\u001b[0m\u001b[0;34m(\u001b[0m\u001b[0m_LIB\u001b[0m\u001b[0;34m.\u001b[0m\u001b[0mMXGetLastError\u001b[0m\u001b[0;34m(\u001b[0m\u001b[0;34m)\u001b[0m\u001b[0;34m)\u001b[0m\u001b[0;34m)\u001b[0m\u001b[0;34m\u001b[0m\u001b[0m\n\u001b[0m\u001b[1;32m    252\u001b[0m \u001b[0;34m\u001b[0m\u001b[0m\n\u001b[1;32m    253\u001b[0m \u001b[0;34m\u001b[0m\u001b[0m\n",
      "\u001b[0;31mMXNetError\u001b[0m: [13:23:04] src/imperative/imperative.cc:285: Check failed: !AGInfo::IsNone(*i) Cannot differentiate node because it is not in a computational graph. You need to set is_recording to true or use autograd.record() to save computational graphs for backward. If you want to differentiate the same graph twice, you need to pass retain_graph=True to backward.\n\nStack trace returned 6 entries:\n[bt] (0) 0   libmxnet.so                         0x000000010d53ab90 libmxnet.so + 15248\n[bt] (1) 1   libmxnet.so                         0x000000010d53a93f libmxnet.so + 14655\n[bt] (2) 2   libmxnet.so                         0x000000010ea8d0e9 MXNDListFree + 550809\n[bt] (3) 3   libmxnet.so                         0x000000010e9dff2e MXAutogradBackwardEx + 1022\n[bt] (4) 4   _ctypes.so                          0x0000000105b4d127 ffi_call_unix64 + 79\n[bt] (5) 5   python                              0x00007fff5bffc310 __progname + 140730441904752\n\n"
     ]
    }
   ],
   "source": [
    "batch_size = 256\n",
    "\n",
    "\n",
    "# Combine the features and labels of the training data\n",
    "dataset = gdata.ArrayDataset(wavelengths, radiance)\n",
    "# Randomly reading mini-batches\n",
    "data_iter = gdata.DataLoader(dataset, batch_size, shuffle=True)\n",
    "\n",
    "trainer = gluon.Trainer(net.collect_params(), 'sgd', {'learning_rate': 0.5})\n",
    "num_epochs = 10\n",
    "\n",
    "\n",
    "# Training\n",
    "for epoch in range(1, num_epochs + 1):\n",
    "    for wave, rad in data_iter:\n",
    "        with autograd.record():\n",
    "            forward = wien(X,y)\n",
    "            l = loss(y, forward)\n",
    "        l.backward()\n",
    "        trainer.step(batch_size)\n",
    "    train_l = loss(net(features), labels)\n",
    "    print('epoch %d, loss: %f' % (epoch, train_l.mean().asnumpy()))"
   ]
  },
  {
   "cell_type": "code",
   "execution_count": null,
   "metadata": {
    "collapsed": true
   },
   "outputs": [],
   "source": []
  }
 ],
 "metadata": {
  "anaconda-cloud": {},
  "kernelspec": {
   "display_name": "Python [default]",
   "language": "python",
   "name": "python3"
  },
  "language_info": {
   "codemirror_mode": {
    "name": "ipython",
    "version": 3
   },
   "file_extension": ".py",
   "mimetype": "text/x-python",
   "name": "python",
   "nbconvert_exporter": "python",
   "pygments_lexer": "ipython3",
   "version": "3.5.2"
  }
 },
 "nbformat": 4,
 "nbformat_minor": 2
}
