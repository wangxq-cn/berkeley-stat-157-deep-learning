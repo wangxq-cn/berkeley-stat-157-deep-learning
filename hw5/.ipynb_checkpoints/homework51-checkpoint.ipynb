{
 "cells": [
  {
   "cell_type": "markdown",
   "metadata": {},
   "source": [
    "#  Homework 5 - Berkeley STAT 157\n",
    "\n",
    "**Your name: Jack Sullivan, SID 25195800, teammates Jesse, Benson, Daiyaan, Mohameed** (Please add your name, SID and teammates to ease Ryan and Rachel to grade.)\n",
    "\n",
    "**Please submit your homework through [gradescope](http://gradescope.com/) instead of Github, so you will get the score distribution for each question. Please enroll in the [class](https://www.gradescope.com/courses/42432) by the Entry code: MXG5G5** \n",
    "\n",
    "Handout 2/19/2019, due 2/26/2019 by 4pm in Git by committing to your repository.\n",
    "\n",
    "In this homework, we will model covariate shift and attempt to fix it using logistic regression. This is a fairly realistic scenario for data scientists. To keep things well under control and understandable we will use [Fashion-MNIST](http://d2l.ai/chapter_linear-networks/fashion-mnist.html) as the data to experiment on. \n",
    "\n",
    "Follow the instructions from the Fashion MNIST notebook to get the data."
   ]
  },
  {
   "cell_type": "code",
   "execution_count": 1,
   "metadata": {
    "ExecuteTime": {
     "end_time": "2019-02-12T19:52:59.411749Z",
     "start_time": "2019-02-12T19:52:28.081528Z"
    },
    "attributes": {
     "classes": [],
     "id": "",
     "n": "3"
    },
    "collapsed": false,
    "scrolled": true
   },
   "outputs": [],
   "source": [
    "%matplotlib inline\n",
    "from mxnet import autograd, gluon, init, nd\n",
    "from mxnet.gluon import data as gdata, loss as gloss, nn, utils\n",
    "import numpy as np\n",
    "\n",
    "mnist_train = gdata.vision.FashionMNIST(train=True)\n",
    "mnist_test = gdata.vision.FashionMNIST(train=False)"
   ]
  },
  {
   "cell_type": "markdown",
   "metadata": {},
   "source": [
    "## 1. Logistic Regression\n",
    "\n",
    "1. Implement the logistic loss function $l(y,f) = -\\log(1 + \\exp(-y f))$ in Gluon.\n",
    "2. Plot its values and its derivative for $y = 1$ and $f \\in [-5, 5]$, using automatic differentiation in Gluon.\n",
    "3. Generate training and test datasets for a binary classification problem using Fashion-MNIST with class $1$ being a combination of `shirt` and `sweater` and class $-1$ being the combination of `sandal` and `sneaker` categories. \n",
    "4. Train a binary classifier of your choice (it can be linear or a simple MLP such as from a previous lecture) using half the data (i.e. $12,000$ observations mixed as abvove) and one using the full dataset (i.e. $24,000$ observations as arising from the 4 categories) and report its accuracy. \n",
    "\n",
    "Hint - you should encapsulate the training and reporting code in a callable function since you'll need it quite a bit in the following. "
   ]
  },
  {
   "cell_type": "code",
   "execution_count": 2,
   "metadata": {
    "collapsed": true
   },
   "outputs": [],
   "source": [
    "def logistic_loss(y, f):\n",
    "    return -1 * nd.log(1 + nd.exp(-y*f))"
   ]
  },
  {
   "cell_type": "code",
   "execution_count": 3,
   "metadata": {
    "collapsed": true
   },
   "outputs": [],
   "source": [
    "def gen_loss_arrays(y, f_s):\n",
    "    losses = []\n",
    "    for f in f_s:\n",
    "        losses.append(logistic_loss(y, f).asscalar())\n",
    "    return losses\n",
    "\n",
    "def gen_autograd_arrays(y, f_s):\n",
    "    losses = []\n",
    "    for f in f_s:\n",
    "        f.attach_grad()\n",
    "        with autograd.record():\n",
    "            result = logistic_loss(y, f)\n",
    "        result.backward()\n",
    "        losses.append(f.grad.asscalar()) \n",
    "    return losses"
   ]
  },
  {
   "cell_type": "code",
   "execution_count": 4,
   "metadata": {
    "collapsed": true
   },
   "outputs": [],
   "source": [
    "f_s = [-5, -4, -3, -2, -1, 0, 1, 2, 3, 4, 5]\n",
    "\n",
    "losses_y1 = gen_loss_arrays(1, nd.array(f_s))\n",
    "grads_y1 = gen_autograd_arrays(1, nd.array(f_s))"
   ]
  },
  {
   "cell_type": "code",
   "execution_count": 5,
   "metadata": {
    "collapsed": false
   },
   "outputs": [
    {
     "data": {
      "image/png": "[encoded data removed]",
      "text/plain": [
       "<Figure size 432x288 with 1 Axes>"
      ]
     },
     "metadata": {},
     "output_type": "display_data"
    }
   ],
   "source": [
    "import matplotlib.pyplot as plt\n",
    "plt.plot(f_s, losses_y1, label=\"values\")\n",
    "plt.plot(f_s, grads_y1, label=\"derivative\")\n",
    "plt.xlabel(\"f\")\n",
    "plt.ylabel(\"Value or Derivative\")\n",
    "plt.title(\"Value or Derivative vs f\")\n",
    "plt.legend()\n",
    "plt.show()"
   ]
  },
  {
   "cell_type": "code",
   "execution_count": 6,
   "metadata": {
    "collapsed": false
   },
   "outputs": [],
   "source": [
    "import d2l\n",
    "\n",
    "def get_data(d):\n",
    "    new_data = []\n",
    "    for i in range(len(d)):\n",
    "        feature, label = d[i]\n",
    "        label = d2l.get_fashion_mnist_labels([label])[0]\n",
    "        if label == \"shirt\" or label == \"t-shirt\":\n",
    "            new_data.append((d[i][0].astype('float32').reshape(1, 784), nd.array([1])))\n",
    "        elif label == \"sandal\" or label == \"sneaker\":\n",
    "            new_data.append((d[i][0].astype('float32').reshape(1, 784), nd.array([-1])))\n",
    "    return new_data"
   ]
  },
  {
   "cell_type": "code",
   "execution_count": 7,
   "metadata": {
    "collapsed": false
   },
   "outputs": [],
   "source": [
    "new_train = get_data(mnist_train)\n",
    "new_test = get_data(mnist_test)"
   ]
  },
  {
   "cell_type": "code",
   "execution_count": 8,
   "metadata": {
    "collapsed": false
   },
   "outputs": [
    {
     "data": {
      "text/plain": [
       "(24000, 4000)"
      ]
     },
     "execution_count": 8,
     "metadata": {},
     "output_type": "execute_result"
    }
   ],
   "source": [
    "len(new_train), len(new_test)"
   ]
  },
  {
   "cell_type": "code",
   "execution_count": 9,
   "metadata": {
    "collapsed": true
   },
   "outputs": [],
   "source": [
    "def get_net():\n",
    "    net = nn.Sequential()\n",
    "    net.add(nn.Dense(1))\n",
    "    net.initialize(init.Normal(sigma=0.01))\n",
    "    return net"
   ]
  },
  {
   "cell_type": "code",
   "execution_count": 10,
   "metadata": {
    "collapsed": true
   },
   "outputs": [],
   "source": [
    "def predict(yhat):\n",
    "    if yhat[0].asscalar() > 0:\n",
    "        return 1\n",
    "    return -1"
   ]
  },
  {
   "cell_type": "code",
   "execution_count": 11,
   "metadata": {
    "collapsed": false
   },
   "outputs": [],
   "source": [
    "loss = gloss.LogisticLoss()\n",
    "num_epochs, lr = 3, 0.5"
   ]
  },
  {
   "cell_type": "code",
   "execution_count": 12,
   "metadata": {
    "collapsed": false
   },
   "outputs": [],
   "source": [
    "def train(train_iter, test_iter, loss, num_epochs, batch_size, lr=None):\n",
    "    net = get_net()\n",
    "    trainer = gluon.Trainer(net.collect_params(), 'adam', {\n",
    "        'learning_rate': lr})\n",
    "    for epoch in range(num_epochs):\n",
    "        train_l_sum, train_acc_sum, n = 0.0, 0.0, 0\n",
    "        for X, y in train_iter:\n",
    "            with autograd.record():\n",
    "                y_hat = net(X)\n",
    "                l = loss(y_hat, y).sum()\n",
    "            l.backward()\n",
    "            trainer.step(batch_size)\n",
    "            y = y.astype('float32')\n",
    "            train_l_sum += l.asscalar()\n",
    "            train_acc_sum += (predict(y_hat) == y).sum().asscalar()\n",
    "            n += y.size\n",
    "        test_acc = evaluate_accuracy(test_iter, net)\n",
    "        print('epoch %d, loss %.4f, train acc %.3f, test acc %.3f'\n",
    "              % (epoch + 1, train_l_sum / n, train_acc_sum / n, test_acc))\n",
    "    return net\n",
    "        \n",
    "def evaluate_accuracy(data_iter, net):\n",
    "    \"\"\"Evaluate accuracy of a model on the given data set.\"\"\"\n",
    "    acc_sum, n = nd.array([0]), 0\n",
    "    for X, y in data_iter:\n",
    "        y = y.astype('float32')\n",
    "        acc_sum += (predict(net(X)) == y).sum()\n",
    "        n += y.size\n",
    "        #acc_sum.wait_to_read()\n",
    "    \n",
    "    return acc_sum.asscalar() / n"
   ]
  },
  {
   "cell_type": "code",
   "execution_count": null,
   "metadata": {
    "collapsed": false
   },
   "outputs": [],
   "source": [
    "batch_size = len(new_train) / 2\n",
    "net_half = train(new_train, new_test, loss, num_epochs, batch_size, lr)"
   ]
  },
  {
   "cell_type": "code",
   "execution_count": 14,
   "metadata": {
    "collapsed": false
   },
   "outputs": [
    {
     "name": "stdout",
     "output_type": "stream",
     "text": [
      "epoch 1, loss 242.5977, train acc 0.996, test acc 0.997\n",
      "epoch 2, loss 193.8834, train acc 0.998, test acc 0.997\n",
      "epoch 3, loss 164.3264, train acc 0.999, test acc 0.998\n"
     ]
    }
   ],
   "source": [
    "batch_size = len(new_train)\n",
    "net_full = train(new_train, new_test, loss, num_epochs, batch_size, lr)"
   ]
  },
  {
   "cell_type": "markdown",
   "metadata": {},
   "source": [
    "## 2. Covariate Shift\n",
    "\n",
    "Your goal is to introduce covariate shit in the data and observe the accuracy. For this, compose a dataset of $12,000$ observations, given by a mixture of `shirt` and `sweater` and of `sandal` and `sneaker` respectively, where you use a fraction $\\lambda \\in \\{0.05, 0.1, 0.2, \\ldots 0.8, 0.9, 0.95\\}$ of one and a fraction of $1-\\lambda$ of  the other datasets respectively. For instance, you might pick for $\\lambda = 0.1$ a total of $600$ `shirt` and $5,400$ `sweater` images and likewise $600$ `sandal` and $5,400$ `sneaker` photos, yielding a total of $12,000$ images for training. Note that the test set remains unbiased, composed of $2,000$ photos for the `shirt` + `sweater` category and of the `sandal` + `sneaker` category each.\n",
    "\n",
    "1. Generate training sets that are appropriately biased. You should have 11 datasets.\n",
    "2. Train a binary classifier using this and report the test set accuracy on the unbiased test set. "
   ]
  },
  {
   "cell_type": "code",
   "execution_count": 15,
   "metadata": {
    "collapsed": true
   },
   "outputs": [],
   "source": [
    "label_map = {}\n",
    "label_map[0] = list()\n",
    "label_map[6] = list()\n",
    "label_map[5] = list()\n",
    "label_map[7] = list()\n",
    "\n",
    "for i in range(len(mnist_train)):\n",
    "    _, label = mnist_train[i]\n",
    "    if label in label_map:\n",
    "        label_map[label].append(i)"
   ]
  },
  {
   "cell_type": "code",
   "execution_count": 16,
   "metadata": {
    "collapsed": false
   },
   "outputs": [],
   "source": [
    "def gen_unbal_data(l):\n",
    "    tshirt_indices = np.random.choice(label_map[0], int(len(label_map[0])*l), replace=False)\n",
    "    shirt_indices = np.random.choice(label_map[6], int(len(label_map[0])*(1-l)), replace=False)\n",
    "    shirts_indices = np.concatenate((tshirt_indices, shirt_indices), axis=0)\n",
    "    \n",
    "    sandal_indices = np.random.choice(label_map[5], int(len(label_map[0])*l), replace=False)\n",
    "    sneaker_indices = np.random.choice(label_map[7], int(len(label_map[0])*(1-l)), replace=False)\n",
    "    shoes_indices = np.concatenate((sandal_indices, sneaker_indices), axis=0)\n",
    "    \n",
    "    new_data = []\n",
    "    for i in np.concatenate((shirts_indices, shoes_indices), axis=0):\n",
    "        feature, label = mnist_train[i]\n",
    "        if label == 0 or label == 6:\n",
    "            new_data.append((mnist_train[i][0].astype('float32').reshape(1, 784), nd.array([1])))\n",
    "        elif label == 5 or label == 7:\n",
    "            new_data.append((mnist_train[i][0].astype('float32').reshape(1, 784), nd.array([-1])))\n",
    "    \n",
    "    return new_data"
   ]
  },
  {
   "cell_type": "code",
   "execution_count": 17,
   "metadata": {
    "collapsed": false
   },
   "outputs": [],
   "source": [
    "l_5 = gen_unbal_data(0.05)\n",
    "l_10 = gen_unbal_data(0.1)\n",
    "l_20 = gen_unbal_data(0.2)\n",
    "l_30 = gen_unbal_data(0.3)\n",
    "l_40 = gen_unbal_data(0.4)\n",
    "l_50 = gen_unbal_data(0.5)\n",
    "l_60 = gen_unbal_data(0.6)\n",
    "l_70 = gen_unbal_data(0.7)\n",
    "l_80 = gen_unbal_data(0.8)\n",
    "l_90 = gen_unbal_data(0.9)\n",
    "l_95 = gen_unbal_data(0.95)"
   ]
  },
  {
   "cell_type": "code",
   "execution_count": 18,
   "metadata": {
    "collapsed": false
   },
   "outputs": [
    {
     "name": "stdout",
     "output_type": "stream",
     "text": [
      "epoch 1, loss 6.1784, train acc 1.000, test acc 0.500\n",
      "epoch 2, loss 105.6612, train acc 0.999, test acc 0.759\n",
      "epoch 3, loss 79.4004, train acc 1.000, test acc 0.906\n",
      "epoch 1, loss 0.0432, train acc 1.000, test acc 0.500\n",
      "epoch 2, loss 173.5672, train acc 0.999, test acc 0.559\n",
      "epoch 3, loss 38.0617, train acc 1.000, test acc 0.782\n",
      "epoch 1, loss 0.3757, train acc 1.000, test acc 0.500\n",
      "epoch 2, loss 250.1690, train acc 0.999, test acc 0.708\n",
      "epoch 3, loss 57.0580, train acc 0.999, test acc 0.866\n",
      "epoch 1, loss 10.3665, train acc 1.000, test acc 0.500\n",
      "epoch 2, loss 313.1899, train acc 0.999, test acc 0.776\n",
      "epoch 3, loss 61.0873, train acc 0.999, test acc 0.988\n",
      "epoch 1, loss 0.4300, train acc 1.000, test acc 0.500\n",
      "epoch 2, loss 169.8803, train acc 0.999, test acc 0.501\n",
      "epoch 3, loss 79.2300, train acc 1.000, test acc 0.815\n",
      "epoch 1, loss 55.3126, train acc 0.999, test acc 0.500\n",
      "epoch 2, loss 267.8913, train acc 0.999, test acc 0.603\n",
      "epoch 3, loss 39.9975, train acc 1.000, test acc 0.774\n",
      "epoch 1, loss 6.4266, train acc 1.000, test acc 0.500\n",
      "epoch 2, loss 194.4330, train acc 0.999, test acc 0.538\n",
      "epoch 3, loss 60.2279, train acc 0.999, test acc 0.562\n",
      "epoch 1, loss 0.6899, train acc 1.000, test acc 0.500\n",
      "epoch 2, loss 291.4010, train acc 0.999, test acc 0.504\n",
      "epoch 3, loss 51.7010, train acc 0.999, test acc 0.574\n",
      "epoch 1, loss 5.1173, train acc 1.000, test acc 0.500\n",
      "epoch 2, loss 135.0101, train acc 0.999, test acc 0.524\n",
      "epoch 3, loss 52.0663, train acc 0.999, test acc 0.729\n",
      "epoch 1, loss 1.1461, train acc 1.000, test acc 0.500\n",
      "epoch 2, loss 518.3236, train acc 0.999, test acc 0.705\n",
      "epoch 3, loss 153.1757, train acc 0.999, test acc 0.700\n",
      "epoch 1, loss 7.8769, train acc 1.000, test acc 0.500\n",
      "epoch 2, loss 212.9728, train acc 0.999, test acc 0.601\n",
      "epoch 3, loss 88.3479, train acc 0.999, test acc 0.671\n"
     ]
    }
   ],
   "source": [
    "net_l_5 = train(l_5, new_test, loss, num_epochs, len(l_5), lr)\n",
    "net_l_10 = train(l_10, new_test, loss, num_epochs, len(l_10), lr)\n",
    "net_l_20 = train(l_20, new_test, loss, num_epochs, len(l_20), lr)\n",
    "net_l_30 = train(l_30, new_test, loss, num_epochs, len(l_30), lr)\n",
    "net_l_40 = train(l_40, new_test, loss, num_epochs, len(l_40), lr)\n",
    "net_l_50 = train(l_50, new_test, loss, num_epochs, len(l_50), lr)\n",
    "net_l_60 = train(l_60, new_test, loss, num_epochs, len(l_60), lr)\n",
    "net_l_70 = train(l_70, new_test, loss, num_epochs, len(l_70), lr)\n",
    "net_l_80 = train(l_80, new_test, loss, num_epochs, len(l_80), lr)\n",
    "net_l_90 = train(l_90, new_test, loss, num_epochs, len(l_90), lr)\n",
    "net_l_95 = train(l_95, new_test, loss, num_epochs, len(l_95), lr)"
   ]
  },
  {
   "cell_type": "markdown",
   "metadata": {},
   "source": [
    "## 3. Covariate Shift Correction\n",
    "\n",
    "Having observed that covariate shift can be harmful, let's try fixing it. For this we first need to compute the appropriate propensity scores $\\frac{dp(x)}{dq(x)}$. For this purpose pick a biased dataset, let's say with $\\lambda = 0.1$ and try to fix the covariate shift.\n",
    "\n",
    "1. When training a logistic regression binary classifier to fix covariate shift, we assumed so far that both sets are of equal size. Show that re-weighting data in training and test set appropriately can help address the issue when both datasets have different size. What is the weighting?\n",
    "2. Train a binary classifier (using logistic regression) distinguishing between the biased training set and the unbiased test set. Note - you need to weigh the data. \n",
    "3. Use the scores to compute weights on the training set. Do they match the weight arising from the biasing distribution $\\lambda$? \n",
    "4. Train a binary classifier of the covariate shifted problem using the weights obtained previously and report the accuracy. Note - you will need to modify the training loop slightly such that you can compute the gradient of a weighted sum of losses. \n"
   ]
  }
 ],
 "metadata": {
  "anaconda-cloud": {},
  "kernelspec": {
   "display_name": "Python [conda env:anaconda]",
   "language": "python",
   "name": "conda-env-anaconda-py"
  },
  "language_info": {
   "codemirror_mode": {
    "name": "ipython",
    "version": 3
   },
   "file_extension": ".py",
   "mimetype": "text/x-python",
   "name": "python",
   "nbconvert_exporter": "python",
   "pygments_lexer": "ipython3",
   "version": "3.5.2"
  },
  "toc": {
   "base_numbering": 1,
   "nav_menu": {},
   "number_sections": true,
   "sideBar": true,
   "skip_h1_title": false,
   "title_cell": "Table of Contents",
   "title_sidebar": "Contents",
   "toc_cell": false,
   "toc_position": {},
   "toc_section_display": true,
   "toc_window_display": false
  }
 },
 "nbformat": 4,
 "nbformat_minor": 2
}
