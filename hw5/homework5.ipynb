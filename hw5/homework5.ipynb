{
 "cells": [
  {
   "cell_type": "markdown",
   "metadata": {},
   "source": [
    "#  Homework 5 - Berkeley STAT 157\n",
    "\n",
    "**Name: Benson Yuan, SID 3031807403**\n",
    "\n",
    "\n",
    "**Please submit your homework through [gradescope](http://gradescope.com/) instead of Github, so you will get the score distribution for each question. Please enroll in the [class](https://www.gradescope.com/courses/42432) by the Entry code: MXG5G5** \n",
    "\n",
    "Handout 2/19/2019, due 2/26/2019 by 4pm in Git by committing to your repository.\n",
    "\n",
    "In this homework, we will model covariate shift and attempt to fix it using logistic regression. This is a fairly realistic scenario for data scientists. To keep things well under control and understandable we will use [Fashion-MNIST](http://d2l.ai/chapter_linear-networks/fashion-mnist.html) as the data to experiment on. \n",
    "\n",
    "Follow the instructions from the Fashion MNIST notebook to get the data."
   ]
  },
  {
   "cell_type": "code",
   "execution_count": 1,
   "metadata": {
    "ExecuteTime": {
     "end_time": "2019-02-12T19:52:59.411749Z",
     "start_time": "2019-02-12T19:52:28.081528Z"
    },
    "attributes": {
     "classes": [],
     "id": "",
     "n": "3"
    },
    "collapsed": false,
    "scrolled": true
   },
   "outputs": [],
   "source": [
    "%matplotlib inline\n",
    "from mxnet import autograd, gluon, init, nd\n",
    "from mxnet.gluon import data as gdata, loss as gloss, nn, utils\n",
    "import numpy as np\n",
    "import matplotlib.pyplot as plt\n",
    "\n",
    "mnist_train = gdata.vision.FashionMNIST(train=True)\n",
    "mnist_test = gdata.vision.FashionMNIST(train=False)"
   ]
  },
  {
   "cell_type": "markdown",
   "metadata": {},
   "source": [
    "## 1. Logistic Regression\n",
    "\n",
    "1. Implement the logistic loss function $l(y,f) = -\\log(1 + \\exp(-y f))$ in Gluon.\n",
    "2. Plot its values and its derivative for $y = 1$ and $f \\in [-5, 5]$, using automatic differentiation in Gluon.\n",
    "3. Generate training and test datasets for a binary classification problem using Fashion-MNIST with class $1$ being a combination of `shirt` and `sweater` and class $-1$ being the combination of `sandal` and `sneaker` categories. \n",
    "4. Train a binary classifier of your choice (it can be linear or a simple MLP such as from a previous lecture) using half the data (i.e. $12,000$ observations mixed as abvove) and one using the full dataset (i.e. $24,000$ observations as arising from the 4 categories) and report its accuracy. \n",
    "\n",
    "Hint - you should encapsulate the training and reporting code in a callable function since you'll need it quite a bit in the following. "
   ]
  },
  {
   "cell_type": "markdown",
   "metadata": {},
   "source": [
    "#### 1.1. Implement the logistic loss function $l(y,f) = -\\log(1 + \\exp(-y f))$ in Gluon."
   ]
  },
  {
   "cell_type": "code",
   "execution_count": 2,
   "metadata": {
    "collapsed": true
   },
   "outputs": [],
   "source": [
    "def l(y, f):\n",
    "    return -nd.log(1 + nd.exp(-y*f))"
   ]
  },
  {
   "cell_type": "markdown",
   "metadata": {},
   "source": [
    "#### 1.2. Plot its values and its derivative for $y = 1$ and $f \\in [-5, 5]$, using automatic differentiation in Gluon."
   ]
  },
  {
   "cell_type": "code",
   "execution_count": 3,
   "metadata": {
    "collapsed": false
   },
   "outputs": [
    {
     "data": {
      "image/png": "[encoded data removed]",
      "text/plain": [
       "<Figure size 432x288 with 1 Axes>"
      ]
     },
     "metadata": {},
     "output_type": "display_data"
    }
   ],
   "source": [
    "o = nd.arange(-5, 6) \n",
    "o_cop = nd.arange(-5, 6) \n",
    "y_pos = nd.zeros(len(o)) \n",
    "pos_loss = l(1, o)\n",
    "\n",
    "o.attach_grad() \n",
    "with autograd.record():\n",
    "    pos_loss = l(1, o)\n",
    "pos_loss.backward()\n",
    "\n",
    "plt.figure()\n",
    "plt.plot(o.asnumpy(), pos_loss.asnumpy(), label = 'values') \n",
    "plt.plot(o.asnumpy(), o.grad.asnumpy(),label = 'grad')\n",
    "plt.title(\"Logistic loss function's values and its derivative for  y=1 and f∈[−5,5] ,\") \n",
    "plt.legend()\n",
    "plt.show()"
   ]
  },
  {
   "cell_type": "markdown",
   "metadata": {},
   "source": [
    "#### 1.3. Generate training and test datasets for a binary classification problem using Fashion-MNIST with class $1$ being a combination of `shirt` and `sweater` and class $-1$ being the combination of `sandal` and `sneaker` categories. "
   ]
  },
  {
   "cell_type": "code",
   "execution_count": 4,
   "metadata": {
    "collapsed": false
   },
   "outputs": [],
   "source": [
    "import d2l\n",
    "\n",
    "def preprocess(data):\n",
    "    processed = []\n",
    "    for i in range(len(data)):\n",
    "        feature, label = data[i]\n",
    "        label = d2l.get_fashion_mnist_labels([label])[0]\n",
    "        if label == \"shirt\" or label == \"t-shirt\": # since there is no sweater, I chose t-shirt instead.\n",
    "            processed.append((data[i][0].astype('float32').reshape(1, 784), nd.array([1])))\n",
    "        elif label == \"sandal\" or label == \"sneaker\":\n",
    "            processed.append((data[i][0].astype('float32').reshape(1, 784), nd.array([-1])))\n",
    "    return processed\n",
    "\n",
    "new_train = preprocess(mnist_train)\n",
    "new_test = preprocess(mnist_test)"
   ]
  },
  {
   "cell_type": "code",
   "execution_count": 5,
   "metadata": {
    "collapsed": false
   },
   "outputs": [
    {
     "data": {
      "text/plain": [
       "24000"
      ]
     },
     "execution_count": 5,
     "metadata": {},
     "output_type": "execute_result"
    }
   ],
   "source": [
    "len(new_train) #sanity check that we get 24,000 observations as arising frmo the 4 categories. Good, it matches!"
   ]
  },
  {
   "cell_type": "markdown",
   "metadata": {},
   "source": [
    "#### 1.4. Train a binary classifier of your choice (it can be linear or a simple MLP such as from a previous lecture) using half the data (i.e. $12,000$ observations mixed as abvove) and one using the full dataset (i.e. $24,000$ observations as arising from the 4 categories) and report its accuracy. "
   ]
  },
  {
   "cell_type": "code",
   "execution_count": 6,
   "metadata": {
    "collapsed": true
   },
   "outputs": [],
   "source": [
    "# First define some custom helper functions\n",
    "\n",
    "def init_net():\n",
    "    net = nn.Sequential()\n",
    "    net.add(nn.Dense(1))\n",
    "    net.initialize(init.Normal(sigma=0.01))\n",
    "    return net\n",
    "\n",
    "def predict(y):\n",
    "    return 1 if y[0].asscalar() > 0 else -1 \n",
    "\n",
    "def train(train_iter, test_iter, loss, num_epochs, batch_size, lr=None):\n",
    "    net = init_net()\n",
    "    trainer = gluon.Trainer(net.collect_params(), 'adam', {'learning_rate': lr})\n",
    "    for epoch in range(num_epochs):\n",
    "        train_l_sum, train_acc_sum, n = 0.0, 0.0, 0\n",
    "        for X, y in train_iter:\n",
    "            with autograd.record():\n",
    "                y_hat = net(X)\n",
    "                l = loss(y_hat, y).sum()\n",
    "            l.backward()\n",
    "            trainer.step(batch_size)\n",
    "            y = y.astype('float32')\n",
    "            train_l_sum += l.asscalar()\n",
    "            train_acc_sum += (predict(y_hat) == y).sum().asscalar()\n",
    "            n += y.size\n",
    "        test_acc = get_accuracy(test_iter, net)\n",
    "        print('epoch %d, loss %.4f, train acc %.3f, test acc %.3f'\n",
    "              % (epoch + 1, train_l_sum / n, train_acc_sum / n, test_acc))\n",
    "    return net\n",
    "        \n",
    "def get_accuracy(data_iter, net):\n",
    "    \"\"\"Evaluate accuracy of a model on the given data set.\"\"\"\n",
    "    acc_sum, n = nd.array([0]), 0\n",
    "    for X, y in data_iter:\n",
    "        y = y.astype('float32')\n",
    "        acc_sum += (predict(net(X)) == y).sum()\n",
    "        n += y.size\n",
    "        #acc_sum.wait_to_read()\n",
    "    \n",
    "    return acc_sum.asscalar() / n"
   ]
  },
  {
   "cell_type": "code",
   "execution_count": 7,
   "metadata": {
    "collapsed": false
   },
   "outputs": [
    {
     "name": "stdout",
     "output_type": "stream",
     "text": [
      "Starting training on half of the dataset\n",
      "\n",
      "epoch 1, loss 211.7252, train acc 0.995, test acc 0.997\n",
      "epoch 2, loss 196.3562, train acc 0.998, test acc 0.997\n",
      "epoch 3, loss 63.7366, train acc 0.999, test acc 0.997\n",
      "epoch 4, loss 107.5051, train acc 0.999, test acc 0.998\n",
      "epoch 5, loss 61.9125, train acc 0.999, test acc 0.999\n",
      "Starting training on the full dataset\n",
      "epoch 1, loss 242.6006, train acc 0.996, test acc 0.997\n",
      "epoch 2, loss 193.8790, train acc 0.998, test acc 0.997\n",
      "epoch 3, loss 164.3251, train acc 0.999, test acc 0.998\n",
      "epoch 4, loss 148.6809, train acc 0.999, test acc 0.997\n",
      "epoch 5, loss 141.0904, train acc 0.999, test acc 0.998\n"
     ]
    }
   ],
   "source": [
    "batch_size = 256\n",
    "loss = gloss.LogisticLoss()\n",
    "num_epochs, lr = 5, 0.5\n",
    "half = int(len(new_train)/2)\n",
    "halved = new_train[:half]\n",
    "print(\"Starting training on half of the dataset\")\n",
    "print()\n",
    "trained_half = train(halved, new_test, loss, num_epochs, batch_size, lr)\n",
    "print(\"Starting training on the full dataset\")\n",
    "trained_full = train(new_train, new_test, loss, num_epochs, batch_size, lr)"
   ]
  },
  {
   "cell_type": "markdown",
   "metadata": {},
   "source": [
    "## 2. Covariate Shift\n",
    "\n",
    "Your goal is to introduce covariate shit in the data and observe the accuracy.\n",
    "\n",
    "For this, compose a dataset of 12, 000 observations, given by a mixture of shirt and t-shirt and of sandal and sneaker respectively, where you use a fraction λ ∈ {0.05, 0.1, 0.2, . . . 0.8, 0.9, 0.95} of one (shirt and t-shirt) and a fraction of 1 − λ of the other datasets (sandal and sneaker) respectively.\n",
    "\n",
    "For instance, you might pick for λ = 0.1 a total of 600 shirt and 600 t-shirt images and likewise 5,400 sandal and 5, 400 sneaker photos, yielding a total of 12, 000 images for training. Note that the test set remains unbiased, composed of 2, 000 photos for the shirt + t-shirt category and of the sandal + sneaker category each.\n",
    "\n",
    "#### 1. Generate training sets that are appropriately biased. You should have 11 datasets."
   ]
  },
  {
   "cell_type": "code",
   "execution_count": 12,
   "metadata": {
    "collapsed": false
   },
   "outputs": [],
   "source": [
    "def get_indices_of_label(labels):\n",
    "    indices_map = {}\n",
    "    for i in labels:\n",
    "        indices_map[i] = list()\n",
    "    for i in range(len(mnist_train)):\n",
    "        _, label = mnist_train[i]\n",
    "        if label in indices_map:\n",
    "            indices_map[label].append(i)\n",
    "    return indices_map \n",
    "\n",
    "# 0 = tshirt, 5 = sandal, 6 = shirt, 7 = sneaker.\n",
    "labels = [0, 5, 6, 7]\n",
    "indices_map = get_indices_of_label(labels) # indices map stores indices of each of the classes."
   ]
  },
  {
   "cell_type": "code",
   "execution_count": 13,
   "metadata": {
    "collapsed": true
   },
   "outputs": [],
   "source": [
    "def split_data(frac, indices_map):\n",
    "    num_per_class = len(indices_map[0])\n",
    "    size_class_one = int(frac * num_per_class)\n",
    "    size_class_two = int((1 - frac) * num_per_class)\n",
    "    tshirt_indices = np.random.choice(indices_map[0], size=size_class_one, replace = False)\n",
    "    shirt_indices = np.random.choice(indices_map[6], size=size_class_one, replace = False)\n",
    "    shirts_indices = np.concatenate((tshirt_indices, shirt_indices), axis=0)\n",
    "\n",
    "    sandal_indices = np.random.choice(indices_map[5], size=size_class_two, replace = False)\n",
    "    sneaker_indices = np.random.choice(indices_map[7], size=size_class_two, replace = False)\n",
    "    shoes_indices = np.concatenate((sandal_indices, sneaker_indices), axis=0)\n",
    "    \n",
    "    processed = []\n",
    "    for i in np.concatenate((shirts_indices, shoes_indices), axis=0):\n",
    "        feature, label = mnist_train[i]\n",
    "        if label == 0 or label == 6: # since there is no sweater, I chose t-shirt instead.\n",
    "            processed.append((mnist_train[i][0].astype('float32').reshape(1, 784), nd.array([1])))\n",
    "        elif label == 5 or label == 7:\n",
    "            processed.append((mnist_train[i][0].astype('float32').reshape(1, 784), nd.array([-1])))\n",
    "    return processed"
   ]
  },
  {
   "cell_type": "code",
   "execution_count": 14,
   "metadata": {
    "collapsed": false
   },
   "outputs": [],
   "source": [
    "splitted_data = []\n",
    "frac = [0.05, 0.1, 0.2, 0.3, 0.4, 0.5, 0.6, 0.7, 0.8, 0.9, 0.95]\n",
    "for f in frac:\n",
    "    splitted_data.append(split_data(f, indices_map))"
   ]
  },
  {
   "cell_type": "markdown",
   "metadata": {},
   "source": [
    "#### 2. Train a binary classifier using this and report the test set accuracy on the unbiased test set. "
   ]
  },
  {
   "cell_type": "code",
   "execution_count": 15,
   "metadata": {
    "collapsed": false
   },
   "outputs": [
    {
     "name": "stdout",
     "output_type": "stream",
     "text": [
      "epoch 1, loss 2.8294, train acc 1.000, test acc 0.500\n",
      "epoch 2, loss 31.7829, train acc 0.999, test acc 0.507\n",
      "epoch 3, loss 25.9701, train acc 0.999, test acc 0.758\n",
      "epoch 1, loss 0.0217, train acc 1.000, test acc 0.500\n",
      "epoch 2, loss 33.0224, train acc 0.999, test acc 0.501\n",
      "epoch 3, loss 26.8802, train acc 0.999, test acc 0.779\n",
      "epoch 1, loss 0.3424, train acc 1.000, test acc 0.500\n",
      "epoch 2, loss 95.2141, train acc 0.999, test acc 0.713\n",
      "epoch 3, loss 11.6094, train acc 0.999, test acc 0.766\n",
      "epoch 1, loss 0.3038, train acc 1.000, test acc 0.500\n",
      "epoch 2, loss 78.3453, train acc 0.999, test acc 0.501\n",
      "epoch 3, loss 46.5414, train acc 0.999, test acc 0.794\n",
      "epoch 1, loss 0.0048, train acc 1.000, test acc 0.500\n",
      "epoch 2, loss 85.5992, train acc 0.999, test acc 0.501\n",
      "epoch 3, loss 63.4472, train acc 0.999, test acc 0.878\n",
      "epoch 1, loss 0.0748, train acc 1.000, test acc 0.500\n",
      "epoch 2, loss 61.7979, train acc 0.999, test acc 0.502\n",
      "epoch 3, loss 25.1434, train acc 1.000, test acc 0.748\n",
      "epoch 1, loss 5.9215, train acc 1.000, test acc 0.500\n",
      "epoch 2, loss 72.8818, train acc 0.999, test acc 0.513\n",
      "epoch 3, loss 43.3038, train acc 0.999, test acc 0.830\n",
      "epoch 1, loss 0.0027, train acc 1.000, test acc 0.500\n",
      "epoch 2, loss 78.8037, train acc 0.999, test acc 0.641\n",
      "epoch 3, loss 14.0137, train acc 0.999, test acc 0.772\n",
      "epoch 1, loss 3.9952, train acc 1.000, test acc 0.500\n",
      "epoch 2, loss 74.1785, train acc 0.999, test acc 0.701\n",
      "epoch 3, loss 29.8796, train acc 0.999, test acc 0.846\n",
      "epoch 1, loss 1.2095, train acc 1.000, test acc 0.500\n",
      "epoch 2, loss 36.5899, train acc 0.999, test acc 0.541\n",
      "epoch 3, loss 33.5396, train acc 0.999, test acc 0.783\n",
      "epoch 1, loss 3.7656, train acc 1.000, test acc 0.500\n",
      "epoch 2, loss 74.3138, train acc 0.999, test acc 0.749\n",
      "epoch 3, loss 43.4531, train acc 0.999, test acc 0.881\n"
     ]
    }
   ],
   "source": [
    "trained = []\n",
    "num_epochs, lr = 3, 0.5\n",
    "loss = gloss.LogisticLoss()\n",
    "for i, datum in enumerate(splitted_data):\n",
    "     trained.append(train(datum, new_test, loss, num_epochs, 256, lr))"
   ]
  },
  {
   "cell_type": "markdown",
   "metadata": {},
   "source": [
    "## 3. Covariate Shift Correction\n",
    "\n",
    "Having observed that covariate shift can be harmful, let's try fixing it. For this we first need to compute the appropriate propensity scores $\\frac{dp(x)}{dq(x)}$. For this purpose pick a biased dataset, let's say with $\\lambda = 0.1$ and try to fix the covariate shift.\n",
    "\n",
    "1. When training a logistic regression binary classifier to fix covariate shift, we assumed so far that both sets are of equal size. Show that re-weighting data in training and test set appropriately can help address the issue when both datasets have different size. What is the weighting?\n",
    "2. Train a binary classifier (using logistic regression) distinguishing between the biased training set and the unbiased test set. Note - you need to weigh the data. \n",
    "3. Use the scores to compute weights on the training set. Do they match the weight arising from the biasing distribution $\\lambda$? \n",
    "4. Train a binary classifier of the covariate shifted problem using the weights obtained previously and report the accuracy. Note - you will need to modify the training loop slightly such that you can compute the gradient of a weighted sum of losses. \n"
   ]
  },
  {
   "cell_type": "markdown",
   "metadata": {},
   "source": [
    "Assume that we want to estimate some dependency  p(y|x)  for which we have labeled data  (xi,yi). However, the observations  xi  are drawn from some distribution  q(x)  rather than the ‘proper’ distribution  p(x). We will show that regardless, we can find a proper weighting to reweight the data to correct covariate shift."
   ]
  },
  {
   "cell_type": "markdown",
   "metadata": {},
   "source": [
    "$$\\int_{}^{} p(x)f(x) dx = \\int_{}^{} q(x)f(x) \\frac{p(x)}{q(x)} dx$$"
   ]
  },
  {
   "cell_type": "markdown",
   "metadata": {},
   "source": [
    "On the left, we want to model p(x)f(x), however, if covariate shift occurs, we only have access to q(x)f(x). However, we can estimate the weighting to be $\\beta(x) = \\frac{p(x)}{q(x)}$ which we will multiply with $ q(x)f(x)$ to get $p(x)f(x)$ to correct the model."
   ]
  },
  {
   "cell_type": "code",
   "execution_count": 16,
   "metadata": {
    "collapsed": false
   },
   "outputs": [
    {
     "name": "stdout",
     "output_type": "stream",
     "text": [
      "epoch 1, loss 6.3626, train acc 1.000, test acc 0.500\n",
      "epoch 2, loss 290.0754, train acc 0.999, test acc 0.500\n",
      "epoch 3, loss 251.4783, train acc 0.999, test acc 0.500\n"
     ]
    }
   ],
   "source": [
    "def train_with_weight(weight, train_iter, test_iter, loss, num_epochs, batch_size, lr=None):\n",
    "    net = init_net()\n",
    "    trainer = gluon.Trainer(net.collect_params(), 'adam', {'learning_rate': lr})\n",
    "    for epoch in range(num_epochs):\n",
    "        train_l_sum, train_acc_sum, n = 0.0, 0.0, 0\n",
    "        for X, y in train_iter:\n",
    "            with autograd.record():\n",
    "                y_hat = net(X)\n",
    "                l = loss(y_hat, y).sum() * weight\n",
    "            l.backward()\n",
    "            trainer.step(batch_size)\n",
    "            y = y.astype('float32')\n",
    "            train_l_sum += l.asscalar()\n",
    "            train_acc_sum += (predict(y_hat) == y).sum().asscalar()\n",
    "            n += y.size\n",
    "        test_acc = get_accuracy(test_iter, net)\n",
    "        print('epoch %d, loss %.4f, train acc %.3f, test acc %.3f'\n",
    "              % (epoch + 1, train_l_sum / n, train_acc_sum / n, test_acc))\n",
    "    return net\n",
    "\n",
    "biased_dataset = splitted_data[1]\n",
    "\n",
    "train_test_mix = []\n",
    "for i in range(len(biased_dataset)):\n",
    "    train_test_mix.append((biased_dataset[i][0].astype('float32').reshape(1, 784), nd.array([-1])))\n",
    "for i in range(len(new_test)):\n",
    "    train_test_mix.append((new_test[i][0].astype('float32').reshape(1, 784), nd.array([1])))\n",
    "    \n",
    "num_epochs, lr = 3, 0.5\n",
    "loss = gloss.LogisticLoss()\n",
    "result = train_with_weight(1/3, train_test_mix, new_test, loss, num_epochs, 256, lr) #2000/6000 = 1/3"
   ]
  },
  {
   "cell_type": "markdown",
   "metadata": {},
   "source": [
    "Nice, we are able to achieve nearly 100% accuracy on the training set, which means that we are able to distinguish p(x) from q(x). Note that the test acc don't matter at this point because we are merely training the model in order to obtain B(x) = p(x)/q(x). (The test acc is merely an artifact from our regular classifier function)."
   ]
  },
  {
   "cell_type": "markdown",
   "metadata": {},
   "source": [
    "Weigh training data using  $\\beta i$ = $min(exp(f(xi)),c)$ to clip the correction factor. In this case, we will pick c = 100."
   ]
  },
  {
   "cell_type": "code",
   "execution_count": 22,
   "metadata": {
    "collapsed": true
   },
   "outputs": [],
   "source": [
    "def covariate_counter_train2(f, train_iter, test_iter, loss, num_epochs, batch_size, lr=None):\n",
    "    net = init_net()\n",
    "    trainer = gluon.Trainer(net.collect_params(), 'adam', {'learning_rate': lr})\n",
    "    for epoch in range(num_epochs):\n",
    "        train_l_sum, train_acc_sum, n = 0.0, 0.0, 0\n",
    "        for X, y in train_iter:\n",
    "            with autograd.record():\n",
    "                y_hat = net(X)\n",
    "                l = min(nd.exp(f(X)).sum().asscalar(), 100) * loss(y_hat, y).sum()  \n",
    "                #Above: we are reweighting by βi  = min(exp(f(xi)),100) to correct the covariate shift.\n",
    "            l.backward()\n",
    "            trainer.step(batch_size)\n",
    "            y = y.astype('float32')\n",
    "            train_l_sum += l.asscalar()\n",
    "            train_acc_sum += (predict(y_hat) == y).sum().asscalar()\n",
    "            n += y.size\n",
    "        test_acc = get_accuracy(test_iter, net)\n",
    "        print('epoch %d, loss %.4f, train acc %.3f, test acc %.3f'\n",
    "              % (epoch + 1, train_l_sum / n, train_acc_sum / n, test_acc))\n",
    "    return net"
   ]
  },
  {
   "cell_type": "code",
   "execution_count": 21,
   "metadata": {
    "collapsed": false
   },
   "outputs": [
    {
     "name": "stdout",
     "output_type": "stream",
     "text": [
      "epoch 1, loss 0.2838, train acc 1.000, test acc 0.500\n",
      "epoch 2, loss 7724.2362, train acc 0.999, test acc 0.510\n",
      "epoch 3, loss 3810.1495, train acc 0.999, test acc 0.754\n",
      "epoch 4, loss 3480.3880, train acc 1.000, test acc 0.896\n",
      "epoch 5, loss 1862.0473, train acc 1.000, test acc 0.956\n"
     ]
    }
   ],
   "source": [
    "num_epochs, lr = 5, 0.5\n",
    "covariate_counter_train2(result, splitted_data[1], new_test, loss, num_epochs, 256, lr)"
   ]
  },
  {
   "cell_type": "code",
   "execution_count": 43,
   "metadata": {
    "collapsed": false
   },
   "outputs": [
    {
     "name": "stdout",
     "output_type": "stream",
     "text": [
      "epoch 1, loss 5.2141, train acc 1.000, test acc 0.500\n",
      "epoch 2, loss 95.7691, train acc 0.999, test acc 0.524\n",
      "epoch 3, loss 61.4966, train acc 0.999, test acc 0.831\n",
      "epoch 4, loss 23.1460, train acc 1.000, test acc 0.943\n",
      "epoch 5, loss 11.7775, train acc 1.000, test acc 0.837\n"
     ]
    },
    {
     "data": {
      "text/plain": [
       "Sequential(\n",
       "  (0): Dense(784 -> 1, linear)\n",
       ")"
      ]
     },
     "execution_count": 43,
     "metadata": {},
     "output_type": "execute_result"
    }
   ],
   "source": [
    "train(splitted_data[1], new_test, loss, num_epochs, 256, lr)"
   ]
  },
  {
   "cell_type": "markdown",
   "metadata": {},
   "source": [
    "## Great! After 5 epochs, we have 0.956 test accuracy after correction shift correction compared to 0.837 before the correction.   "
   ]
  },
  {
   "cell_type": "code",
   "execution_count": null,
   "metadata": {
    "collapsed": true
   },
   "outputs": [],
   "source": []
  }
 ],
 "metadata": {
  "anaconda-cloud": {},
  "kernelspec": {
   "display_name": "Python [default]",
   "language": "python",
   "name": "python3"
  },
  "language_info": {
   "codemirror_mode": {
    "name": "ipython",
    "version": 3
   },
   "file_extension": ".py",
   "mimetype": "text/x-python",
   "name": "python",
   "nbconvert_exporter": "python",
   "pygments_lexer": "ipython3",
   "version": "3.5.2"
  }
 },
 "nbformat": 4,
 "nbformat_minor": 2
}
